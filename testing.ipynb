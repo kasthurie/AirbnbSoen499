{
 "cells": [
  {
   "cell_type": "code",
   "execution_count": null,
   "metadata": {},
   "outputs": [],
   "source": [
    "import time\n",
    "from pathlib import Path\n",
    "import pandas as pd\n",
    "import numpy as np\n",
    "\n",
    "import matplotlib.pyplot as plt\n",
    "from sklearn import tree\n",
    "from sklearn.metrics import mean_squared_error\n",
    "from sklearn.metrics import r2_score\n",
    "\n",
    "from sklearn.linear_model import LogisticRegression\n",
    "from sklearn.linear_model import LinearRegression\n",
    "\n",
    "from sklearn.metrics import classification_report\n",
    "from sklearn.metrics import confusion_matrix\n",
    "from sklearn.metrics import r2_score\n",
    "\n",
    "from sklearn.ensemble import RandomForestRegressor, ExtraTreesClassifier\n",
    "from sklearn.model_selection import train_test_split, cross_val_score, GridSearchCV, KFold, RandomizedSearchCV, GridSearchCV"
   ]
  },
  {
   "cell_type": "code",
   "execution_count": null,
   "metadata": {},
   "outputs": [],
   "source": [
    "def clean_data(df: pd.DataFrame):\n",
    "    df = df.drop(columns=['id', 'name', 'host_id', 'host_name'])\n",
    "    df['last_review'] = pd.to_datetime(df['last_review'], infer_datetime_format=True)\n",
    "\n",
    "    earliest_dt = min(df['last_review'])\n",
    "    df = df.fillna({'reviews_per_month': 0, 'last_review': earliest_dt})\n",
    "\n",
    "    df['last_review'] = df['last_review'].apply(lambda dt: dt.toordinal() - earliest_dt.toordinal())\n",
    "    \n",
    "    # one-hot encode categorical data\n",
    "    df = pd.get_dummies(df)\n",
    "    \n",
    "    return df"
   ]
  },
  {
   "cell_type": "code",
   "execution_count": null,
   "metadata": {},
   "outputs": [],
   "source": [
    "#Load data\n",
    "random_state = 91\n",
    "\n",
    "data_fname = Path(\"__file__\").parent / \"new-york-city-airbnb-open-data\" / \"AB_NYC_2019.csv\"\n",
    "df = pd.read_csv(data_fname)\n",
    "df = clean_data(df)\n",
    "\n",
    "results = pd.DataFrame(columns=['classifier', 'training_mse', 'test_mse', 'training_r2_score', 'test_r2_score'])"
   ]
  },
  {
   "cell_type": "code",
   "execution_count": null,
   "metadata": {},
   "outputs": [],
   "source": [
    "X = df.drop(columns=[\"price\"])\n",
    "y = df[\"price\"]\n",
    "\n",
    "X_train, X_test, y_train, y_test = train_test_split(X, y, test_size=0.1, random_state=random_state)\n",
    "\n",
    "def get_errors_row(classifier, classifier_name):\n",
    "    y_train_pred = classifier.predict(X_train)\n",
    "    y_test_pred = classifier.predict(X_test)\n",
    "\n",
    "    training_mse = mean_squared_error(y_train_pred, y_train)\n",
    "    test_mse = mean_squared_error(y_test_pred, y_test)\n",
    "          \n",
    "    training_r2_score = r2_score(y_train_pred, y_train)\n",
    "    test_r2_score = r2_score(y_test_pred, y_test)\n",
    "    \n",
    "    return pd.DataFrame([{'classifier': classifier_name,\n",
    "                         'training_mse': training_mse,\n",
    "                         'test_mse': test_mse,\n",
    "                         'training_r2_score': training_r2_score,\n",
    "                         'test_r2_score': test_r2_score}])"
   ]
  },
  {
   "cell_type": "code",
   "execution_count": null,
   "metadata": {},
   "outputs": [],
   "source": [
    "# Single decision tree\n",
    "\n",
    "tree_classifier = tree.DecisionTreeClassifier(random_state=random_state)\n",
    "tree_classifier.fit(X_train, y_train)\n",
    "\n",
    "results = results.append(get_errors_row(tree_classifier, 'Decision tree'), ignore_index=True)"
   ]
  },
  {
   "cell_type": "code",
   "execution_count": null,
   "metadata": {},
   "outputs": [],
   "source": [
    "# Random forest\n",
    "\n",
    "rfr_baseline = RandomForestRegressor(random_state=random_state)\n",
    "rfr_baseline.fit(X_train, y_train)\n",
    "\n",
    "results = results.append(get_errors_row(rfr_baseline, 'Random forest'), ignore_index=True)"
   ]
  },
  {
   "cell_type": "code",
   "execution_count": null,
   "metadata": {},
   "outputs": [],
   "source": [
    "## Random Forest w/ Grid Search\n",
    "num_folds = 5\n",
    "\n",
    "param_grid = {'n_estimators': list(range(2, 100, 25)),\n",
    "              'max_depth': list(range(2, 20, 2))}\n",
    "\n",
    "# runs for ~ 11 mins\n",
    "rf = RandomForestRegressor(random_state=random_state)\n",
    "rf_grid = GridSearchCV(estimator=rf,\n",
    "                       param_grid=param_grid,\n",
    "                       n_jobs=-1)\n",
    "\n",
    "rf_grid.fit(X_train, y_train)\n",
    "\n",
    "results = results.append(get_errors_row(rf_grid, 'Random forest Grid Search'), ignore_index=True)"
   ]
  },
  {
   "cell_type": "code",
   "execution_count": null,
   "metadata": {},
   "outputs": [],
   "source": [
    "## Random forest w/ Grid Search & CV\n",
    "\n",
    "num_folds = 5\n",
    "\n",
    "param_grid = {'n_estimators': num_estimators,\n",
    "              'max_depth': num_depths}\n",
    "\n",
    "kf = KFold(n_splits=num_folds, shuffle=True)\n",
    "# rfr_ = RandomForestRegressor(n_estimators=27, max_depth=10, random_state=91)\n",
    "rfr_ = rf_grid.best_estimator_\n",
    "\n",
    "for train_index, test_index in kf.split(X):\n",
    "    X_train_, X_test_ = X.loc[train_index], X.loc[test_index]\n",
    "    y_train_, y_test_ = y.loc[train_index], y.loc[test_index]\n",
    "    \n",
    "    rfr_.fit(X_train_, y_train_)\n",
    "    \n",
    "results = results.append(get_errors_row(rfr_, 'Random forest (Grid Search and CV)'), ignore_index=True)"
   ]
  },
  {
   "cell_type": "code",
   "execution_count": null,
   "metadata": {},
   "outputs": [],
   "source": [
    "## Feature importance\n",
    "forest = ExtraTreesClassifier(n_estimators=250,\n",
    "                              random_state=random_state)\n",
    "\n",
    "forest.fit(X, y)"
   ]
  },
  {
   "cell_type": "code",
   "execution_count": null,
   "metadata": {},
   "outputs": [],
   "source": [
    "importances = forest.feature_importances_\n",
    "indices = np.argsort(importances)[::-1]\n",
    "    \n",
    "top_10 = sorted([(X.columns[indices[i]], importances[indices[i]]) for i in range(X.shape[1])],\n",
    "                key=lambda x: x[1],\n",
    "                reverse=True)[:10]\n",
    "\n",
    "for i, val in top_10:\n",
    "    print(\"%-30s %f\" % (i, val))"
   ]
  },
  {
   "cell_type": "code",
   "execution_count": null,
   "metadata": {},
   "outputs": [],
   "source": []
  }
 ],
 "metadata": {
  "kernelspec": {
   "display_name": "Python 3",
   "language": "python",
   "name": "python3"
  },
  "language_info": {
   "codemirror_mode": {
    "name": "ipython",
    "version": 3
   },
   "file_extension": ".py",
   "mimetype": "text/x-python",
   "name": "python",
   "nbconvert_exporter": "python",
   "pygments_lexer": "ipython3",
   "version": "3.6.9"
  }
 },
 "nbformat": 4,
 "nbformat_minor": 2
}
